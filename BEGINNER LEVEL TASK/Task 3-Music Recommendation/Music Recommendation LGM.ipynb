{
 "cells": [
  {
   "cell_type": "markdown",
   "id": "61babb28",
   "metadata": {},
   "source": [
    "# Music Recommendation Model\n",
    "## Author : Laukit Mandal"
   ]
  },
  {
   "cell_type": "markdown",
   "id": "d3882174",
   "metadata": {},
   "source": [
    "**Music recommender systems can suggest songs to users based on their listening patterns.**<br>\n",
    "**Dataset:https://www.kaggle.com/c/kkbox-music-recommendation-challenge/data**\n"
   ]
  },
  {
   "cell_type": "code",
   "execution_count": 2,
   "id": "99e22f79",
   "metadata": {},
   "outputs": [],
   "source": [
    "import numpy as np \n",
    "import pandas as pd\n",
    "import warnings\n",
    "warnings.filterwarnings('ignore')\n",
    "import matplotlib.pyplot as plt\n",
    "%matplotlib inline\n",
    "import gc\n",
    "import seaborn as sns\n",
    "from sklearn.preprocessing import MinMaxScaler\n",
    "from sklearn.model_selection import train_test_split\n",
    "from sklearn.preprocessing import LabelEncoder\n",
    "import datetime\n",
    "import math"
   ]
  },
  {
   "cell_type": "markdown",
   "id": "15f3b59d",
   "metadata": {},
   "source": [
    "**Preparation data <br>\n",
    "1% of Data is used in the kernel.**"
   ]
  },
  {
   "cell_type": "code",
   "execution_count": 3,
   "id": "58ee4cfb",
   "metadata": {},
   "outputs": [],
   "source": [
    "# Load data\n",
    "df = pd.read_csv('train.csv')\n",
    "\n",
    "# 1% sample of items\n",
    "df = df.sample(frac=0.01)\n",
    "\n",
    "# Load and join songs data\n",
    "songs = pd.read_csv('songs.csv')\n",
    "df = pd.merge(df, songs, on='song_id', how='left')\n",
    "del songs\n",
    "\n",
    "# Load and join songs data\n",
    "members = pd.read_csv('members.csv')\n",
    "df = pd.merge(df, members, on='msno', how='left')\n",
    "del members\n",
    "\n",
    "# Replace NA\n",
    "for i in df.select_dtypes(include=['object']).columns:\n",
    "    df[i][df[i].isnull()] = 'unknown'\n",
    "df = df.fillna(value=0)"
   ]
  },
  {
   "cell_type": "markdown",
   "id": "96e10a0e",
   "metadata": {},
   "source": [
    "**Create Dates**"
   ]
  },
  {
   "cell_type": "code",
   "execution_count": 4,
   "id": "b18532bf",
   "metadata": {},
   "outputs": [],
   "source": [
    "# registration_init_time\n",
    "df.registration_init_time = pd.to_datetime(df.registration_init_time, format='%Y%m%d', errors='ignore')\n",
    "df['registration_init_time_year'] = df['registration_init_time'].dt.year\n",
    "df['registration_init_time_month'] = df['registration_init_time'].dt.month\n",
    "df['registration_init_time_day'] = df['registration_init_time'].dt.day\n",
    "\n",
    "# expiration_date\n",
    "df.expiration_date = pd.to_datetime(df.expiration_date,  format='%Y%m%d', errors='ignore')\n",
    "df['expiration_date_year'] = df['expiration_date'].dt.year\n",
    "df['expiration_date_month'] = df['expiration_date'].dt.month\n",
    "df['expiration_date_day'] = df['expiration_date'].dt.day"
   ]
  },
  {
   "cell_type": "markdown",
   "id": "eb9ed689",
   "metadata": {},
   "source": [
    "**Organising Our Data**"
   ]
  },
  {
   "cell_type": "code",
   "execution_count": 5,
   "id": "27227433",
   "metadata": {},
   "outputs": [
    {
     "name": "stdout",
     "output_type": "stream",
     "text": [
      "<class 'pandas.core.frame.DataFrame'>\n",
      "Int64Index: 73774 entries, 0 to 73773\n",
      "Data columns (total 13 columns):\n",
      " #   Column                        Non-Null Count  Dtype  \n",
      "---  ------                        --------------  -----  \n",
      " 0   msno                          73774 non-null  int16  \n",
      " 1   song_id                       73774 non-null  int16  \n",
      " 2   source_screen_name            73774 non-null  int8   \n",
      " 3   source_type                   73774 non-null  int8   \n",
      " 4   target                        73774 non-null  int64  \n",
      " 5   song_length                   73774 non-null  float64\n",
      " 6   artist_name                   73774 non-null  int16  \n",
      " 7   composer                      73774 non-null  int16  \n",
      " 8   bd                            73774 non-null  int64  \n",
      " 9   registration_init_time        73774 non-null  int16  \n",
      " 10  registration_init_time_month  73774 non-null  int64  \n",
      " 11  registration_init_time_day    73774 non-null  int64  \n",
      " 12  expiration_date_day           73774 non-null  int64  \n",
      "dtypes: float64(1), int16(5), int64(5), int8(2)\n",
      "memory usage: 4.8 MB\n"
     ]
    }
   ],
   "source": [
    "# Select columns\n",
    "df = df[['msno', 'song_id', 'source_screen_name', 'source_type', 'target',\n",
    "       'song_length', 'artist_name', 'composer', 'bd',\n",
    "       'registration_init_time', 'registration_init_time_month',\n",
    "       'registration_init_time_day', 'expiration_date_day']]\n",
    "\n",
    "# Dates to categoty\n",
    "df['registration_init_time'] = df['registration_init_time'].astype('category')\n",
    "\n",
    "# Object data to category\n",
    "for col in df.select_dtypes(include=['object']).columns:\n",
    "    df[col] = df[col].astype('category')\n",
    "    \n",
    "# Encoding categorical features\n",
    "for col in df.select_dtypes(include=['category']).columns:\n",
    "    df[col] = df[col].cat.codes\n",
    "\n",
    "df.info()"
   ]
  },
  {
   "cell_type": "markdown",
   "id": "a60ccc11",
   "metadata": {},
   "source": [
    "**Data Split Into Train And Test**"
   ]
  },
  {
   "cell_type": "code",
   "execution_count": 6,
   "id": "de2110db",
   "metadata": {},
   "outputs": [],
   "source": [
    "X = df.drop('target', axis = 1)\n",
    "y = df.target\n",
    "X_train, X_val, y_train, y_val = train_test_split(X, y, test_size = 0.25, random_state = 0)"
   ]
  },
  {
   "cell_type": "markdown",
   "id": "e675b753",
   "metadata": {},
   "source": [
    "**Model**"
   ]
  },
  {
   "cell_type": "code",
   "execution_count": 7,
   "id": "1567e933",
   "metadata": {},
   "outputs": [],
   "source": [
    "from sklearn.ensemble import RandomForestClassifier, ExtraTreesClassifier\n",
    "# Create model\n",
    "model = RandomForestClassifier(n_estimators=1000)\n",
    "model.fit(X_train, y_train)\n",
    "# Predicting\n",
    "val_pred = model.predict(X_val)"
   ]
  },
  {
   "cell_type": "code",
   "execution_count": null,
   "id": "c712d546",
   "metadata": {},
   "outputs": [],
   "source": []
  },
  {
   "cell_type": "code",
   "execution_count": 8,
   "id": "f30bbda5",
   "metadata": {},
   "outputs": [
    {
     "name": "stdout",
     "output_type": "stream",
     "text": [
      "              precision    recall  f1-score   support\n",
      "\n",
      "           0       0.64      0.61      0.62      9151\n",
      "           1       0.63      0.66      0.65      9293\n",
      "\n",
      "    accuracy                           0.64     18444\n",
      "   macro avg       0.64      0.64      0.64     18444\n",
      "weighted avg       0.64      0.64      0.64     18444\n",
      "\n"
     ]
    }
   ],
   "source": [
    "from sklearn.metrics import roc_curve, roc_auc_score, accuracy_score, confusion_matrix, classification_report\n",
    "print(classification_report(y_val, val_pred))"
   ]
  },
  {
   "cell_type": "code",
   "execution_count": 9,
   "id": "80752fb1",
   "metadata": {},
   "outputs": [
    {
     "name": "stdout",
     "output_type": "stream",
     "text": [
      "Accuracy : 0.6354369984818912\n",
      "ROC : 0.6352275357444592\n"
     ]
    }
   ],
   "source": [
    "print(\"Accuracy :\", accuracy_score(y_val, val_pred))\n",
    "print(\"ROC :\", roc_auc_score(y_val, val_pred))"
   ]
  }
 ],
 "metadata": {
  "kernelspec": {
   "display_name": "Python 3 (ipykernel)",
   "language": "python",
   "name": "python3"
  },
  "language_info": {
   "codemirror_mode": {
    "name": "ipython",
    "version": 3
   },
   "file_extension": ".py",
   "mimetype": "text/x-python",
   "name": "python",
   "nbconvert_exporter": "python",
   "pygments_lexer": "ipython3",
   "version": "3.9.7"
  }
 },
 "nbformat": 4,
 "nbformat_minor": 5
}
